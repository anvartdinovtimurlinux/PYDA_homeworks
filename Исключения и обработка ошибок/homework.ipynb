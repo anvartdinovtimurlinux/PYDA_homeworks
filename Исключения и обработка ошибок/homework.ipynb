{
 "cells": [
  {
   "cell_type": "markdown",
   "metadata": {},
   "source": [
    "# Задание 1\n",
    "\n",
    "Печатные газеты использовали свой формат дат для каждого выпуска. Для каждой газеты из списка напишите формат указанной даты для перевода в объект datetime:\n",
    "\n",
    "* The Moscow Times - Wednesday, October 2, 2002\n",
    "* The Guardian - Friday, 11.10.13\n",
    "* Daily News - Thursday, 18 August 1977"
   ]
  },
  {
   "cell_type": "code",
   "execution_count": 13,
   "metadata": {},
   "outputs": [
    {
     "name": "stdout",
     "output_type": "stream",
     "text": [
      "2002-10-02 00:00:00\n",
      "2013-10-11 00:00:00\n",
      "1977-08-18 00:00:00\n"
     ]
    }
   ],
   "source": [
    "import datetime as dt\n",
    "\n",
    "date_russia = dt.datetime.strptime('Wednesday, October 2, 2002', '%A, %B %d, %Y')\n",
    "date_british = dt.datetime.strptime('Friday, 11.10.13', '%A, %d.%m.%y')\n",
    "date_american = dt.datetime.strptime('Thursday, 18 August 1977', '%A, %d %B %Y')\n",
    "\n",
    "print(date_russia)\n",
    "print(date_british)\n",
    "print(date_american)"
   ]
  },
  {
   "cell_type": "markdown",
   "metadata": {},
   "source": [
    "# Задание 2\n",
    "\n",
    "Дан поток дат в формате YYYY-MM-DD, в которых встречаются некорректные значения:\n",
    "\n",
    "```python\n",
    "stream = ['2018-04-02', '2018-02-29', '2018-19-02']\n",
    "```\n",
    "\n",
    "Напишите функцию, которая проверяет эти даты на корректность. Т. е. для каждой даты возвращает True (дата корректна) или False (некорректная дата). "
   ]
  },
  {
   "cell_type": "code",
   "execution_count": 14,
   "metadata": {},
   "outputs": [
    {
     "name": "stdout",
     "output_type": "stream",
     "text": [
      "2018-04-02 - True\n",
      "2018-02-29 - False\n",
      "2018-19-02 - False\n"
     ]
    }
   ],
   "source": [
    "def is_correct_date(date):\n",
    "    try:\n",
    "        dt.datetime.strptime(date, '%Y-%m-%d')\n",
    "        return True\n",
    "    except ValueError:\n",
    "        return False\n",
    "        \n",
    "\n",
    "stream = ['2018-04-02', '2018-02-29', '2018-19-02']\n",
    "\n",
    "for date in stream:\n",
    "    print(f'{date} - {is_correct_date(date)}')"
   ]
  },
  {
   "cell_type": "markdown",
   "metadata": {},
   "source": [
    "# Задание 3\n",
    "\n",
    "Напишите функцию date_range, которая возвращает список дат за период от start_date до end_date. Даты должны вводиться в формате YYYY-MM-DD. В случае неверного формата или при start_date > end_date должен возвращаться пустой список."
   ]
  },
  {
   "cell_type": "code",
   "execution_count": 25,
   "metadata": {},
   "outputs": [
    {
     "name": "stdout",
     "output_type": "stream",
     "text": [
      "2002-01-01 00:00:00\n",
      "2002-01-02 00:00:00\n",
      "2002-01-03 00:00:00\n",
      "2002-01-04 00:00:00\n",
      "2002-01-05 00:00:00\n",
      "2002-01-06 00:00:00\n",
      "2002-01-07 00:00:00\n",
      "2002-01-08 00:00:00\n",
      "2002-01-09 00:00:00\n",
      "2002-01-10 00:00:00\n"
     ]
    }
   ],
   "source": [
    "def date_range(start_date, end_date):\n",
    "    date_list = []\n",
    "    template = '%Y-%m-%d'\n",
    "    \n",
    "    try:\n",
    "        start_date = dt.datetime.strptime(start_date, template)\n",
    "        end_date = dt.datetime.strptime(end_date, template)\n",
    "    except ValueError:\n",
    "        return date_list\n",
    "        \n",
    "    delta = dt.timedelta(days=1)\n",
    "    while start_date <= end_date:\n",
    "        date_list.append(start_date)\n",
    "        start_date += delta\n",
    "    \n",
    "    return date_list\n",
    "   \n",
    "\n",
    "print(*date_range('2002-01-01', '2002-01-10'), sep='\\n')"
   ]
  },
  {
   "cell_type": "markdown",
   "metadata": {},
   "source": [
    "# Задание 4 (бонусное)\n",
    "\n",
    "Ваш коллега прислал код функции:\n",
    "\n",
    "```python\n",
    "DEFAULT_USER_COUNT = 3\n",
    "\n",
    "def delete_and_return_last_user(region, default_list=['A100', 'A101', 'A102']):\n",
    "    \"\"\"\n",
    "    Удаляет из списка default_list последнего пользователя \n",
    "    и возвращает ID нового последнего пользователя.\n",
    "    \"\"\"\n",
    "    element_to_delete = default_list[-1]\n",
    "    default_list.remove(element_to_delete)\n",
    "    \n",
    "    return default_list[DEFAULT_USER_COUNT-2]\n",
    "```\n",
    "\n",
    "При однократном вызове этой функции все работает корректно:\n",
    "```python\n",
    "delete_and_return_last_user(1)\n",
    "'A101'\n",
    "```\n",
    "\n",
    "Однако, при повторном вызове получается ошибка IndexError: list index out of range.\n",
    "\n",
    "Задание:\n",
    "1. Что значит ошибка list index out of range?\n",
    "2. Почему при первом запуске функция работает корректно, а при втором - нет?\n"
   ]
  },
  {
   "cell_type": "markdown",
   "metadata": {},
   "source": [
    "1) list index out of range означает, что программа пытается получить доступ к элементу списка по индексу, которого не существует.\n",
    "2) При первом запуске функция удалила последний элемент из списка, в списке осталось 2 элемента, функция вернула второй элемент. При втором запуске функция удалила последний элемент из списка, в списке остался 1 элемент, функция вернула второй элемент"
   ]
  }
 ],
 "metadata": {
  "kernelspec": {
   "display_name": "Python 3",
   "language": "python",
   "name": "python3"
  },
  "language_info": {
   "codemirror_mode": {
    "name": "ipython",
    "version": 3
   },
   "file_extension": ".py",
   "mimetype": "text/x-python",
   "name": "python",
   "nbconvert_exporter": "python",
   "pygments_lexer": "ipython3",
   "version": "3.7.6"
  }
 },
 "nbformat": 4,
 "nbformat_minor": 4
}
