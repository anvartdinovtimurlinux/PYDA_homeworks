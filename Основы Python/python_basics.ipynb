{
 "cells": [
  {
   "cell_type": "markdown",
   "metadata": {},
   "source": [
    "**Задание 1**. Даны 2 строки: *long_phrase* и *short_phrase*. \n",
    "Напишите код, который проверяет действительно ли длинная фраза *long_phrase* длиннее короткой *short_phrase*. И выводит *True* или *False* в зависимости от результата сравнения."
   ]
  },
  {
   "cell_type": "code",
   "execution_count": 4,
   "metadata": {},
   "outputs": [],
   "source": [
    "long_phrase = 'Насколько проще было бы писать программы, если бы не заказчики'\n",
    "short_phrase = '640Кб должно хватить для любых задач. Билл Гейтс (по легенде)'"
   ]
  },
  {
   "cell_type": "code",
   "execution_count": 5,
   "metadata": {},
   "outputs": [
    {
     "data": {
      "text/plain": [
       "True"
      ]
     },
     "execution_count": 5,
     "metadata": {},
     "output_type": "execute_result"
    }
   ],
   "source": [
    "len(long_phrase) > len(short_phrase)"
   ]
  },
  {
   "cell_type": "markdown",
   "metadata": {},
   "source": [
    "**Задание 2**. Дано значение объема файла в байтах (*в мегабайте 2^20 байт*). Напишите перевод этого значения в мегабайты в формате: \"*Объем файла равен 213.68Mb*\"."
   ]
  },
  {
   "cell_type": "code",
   "execution_count": 1,
   "metadata": {},
   "outputs": [
    {
     "name": "stdout",
     "output_type": "stream",
     "text": [
      "Введите объем файла в байтах: 20000000\n",
      "Объем файла равен 19.07Mb\n"
     ]
    }
   ],
   "source": [
    "size_in_bytes = int(input('Введите объем файла в байтах: '))\n",
    "size_in_Mbytes = size_in_bytes / (2 ** 20)\n",
    "print(f'Объем файла равен {size_in_Mbytes:.2f}Mb')"
   ]
  },
  {
   "cell_type": "markdown",
   "metadata": {},
   "source": [
    "**Задание 3**. Разработать приложение для определения знака зодиака по дате рождения. Пример:\n",
    "\n",
    "Введите месяц: март\n",
    "\n",
    "Введите число: 6\n",
    "\n",
    "Вывод:\n",
    "Рыбы"
   ]
  },
  {
   "cell_type": "code",
   "execution_count": 7,
   "metadata": {},
   "outputs": [
    {
     "name": "stdout",
     "output_type": "stream",
     "text": [
      "Введите месяц: Май\n",
      "Введите число: 5\n",
      "Вывод: \n",
      "Телец\n"
     ]
    }
   ],
   "source": [
    "month = input('Введите месяц: ').lower()\n",
    "day = int(input('Введите число: '))\n",
    "\n",
    "if (day > 20 and month == 'март') or \\\n",
    "    (day < 21 and month == 'апрель'):\n",
    "    zodiak = 'Овен'\n",
    "elif (day > 20 and month == 'апрель') or \\\n",
    "    (day < 22 and month == 'май'):\n",
    "    zodiak = 'Телец'\n",
    "elif (day > 21 and month == 'май') or \\\n",
    "    (day < 21 and month == 'июнь'):\n",
    "    zodiak = 'Близнецы'\n",
    "elif (day > 21 and month == 'июнь') or \\\n",
    "    (day < 23 and month == 'июль'):\n",
    "    zodiak = 'Рак'\n",
    "elif (day > 22 and month == 'июль') or \\\n",
    "    (day < 22 and month == 'август'):\n",
    "    zodiak = 'Лев'\n",
    "elif (day > 21 and month == 'август') or \\\n",
    "    (day < 24 and month == 'сентябрь'):\n",
    "    zodiak = 'Дева'\n",
    "elif (day > 23 and month == 'сентябрь') or \\\n",
    "    (day < 24 and month == 'октябрь'):\n",
    "    zodiak = 'Весы'\n",
    "elif (day > 23 and month == 'октябрь') or \\\n",
    "    (day < 23 and month == 'ноябрь'):\n",
    "    zodiak = 'Скорпион'\n",
    "elif (day > 22 and month == 'ноябрь') or \\\n",
    "    (day < 23 and month == 'декабрь'):\n",
    "    zodiak = 'Стрелец'\n",
    "elif (day > 22 and month == 'декабрь') or \\\n",
    "    (day < 21 and month == 'январь'):\n",
    "    zodiak = 'Козерог'\n",
    "elif (day > 20 and month == 'январь') or \\\n",
    "    (day < 19 and month == 'февраль'):\n",
    "    zodiak = 'Водолей'\n",
    "elif (day > 19 and month == 'февраль') or \\\n",
    "    (day < 21 and month == 'март'):\n",
    "    zodiak = 'Рыбы'\n",
    "else:\n",
    "    zodiak = 'Знак зодиака не определен'\n",
    "\n",
    "print('Вывод: ', zodiak, sep=\"\\n\")"
   ]
  },
  {
   "cell_type": "markdown",
   "metadata": {},
   "source": [
    "**Задание 4**. Нужно разработать приложение для финансового планирования.\n",
    "Приложение учитывает сколько уходит на ипотеку, \"на жизнь\" и сколько нужно отложить на пенсию.\n",
    "Пользователь вводит:\n",
    "- заработанную плату в месяц.\n",
    "- сколько процентов от ЗП уходит на ипотеку.\n",
    "- сколько процентов от ЗП уходит \"на жизнь\".\n",
    "- сколько раз приходит премия в год.\n",
    "\n",
    "Остальная часть заработанной платы откладывается на пенсию.\n",
    "\n",
    "Также пользователю приходит премия в размере зарплаты, от которой половина уходит на отпуск, а вторая половина откладывается.\n",
    "\n",
    "Программа должна учитывать сколько премий было в год.\n",
    "\n",
    "Нужно вывести сколько денег тратит пользователь на ипотеку и сколько он накопит за год.\n",
    "\n",
    "Пример:\n",
    "\n",
    "Введите заработанную плату в месяц: 100000\n",
    "\n",
    "Введите сколько процентов уходит на ипотеку: 30\n",
    "\n",
    "Введите сколько процентов уходит на жизнь: 50\n",
    "\n",
    "Введите количество премий за год: 2\n",
    "\n",
    "Вывод:\n",
    "На ипотеку было потрачено: 360000 рублей\n",
    "Было накоплено: 340000 рублей"
   ]
  },
  {
   "cell_type": "code",
   "execution_count": 6,
   "metadata": {},
   "outputs": [
    {
     "name": "stdout",
     "output_type": "stream",
     "text": [
      "Введите заработанную плату в месяц: 100000\n",
      "Введите сколько процентов уходит на ипотеку: 30\n",
      "Введите сколько процентов уходит на жизнь: 50\n",
      "Введите количество премий за год: 2\n",
      "Вывод:\n",
      "На ипотеку было потрачено: 360000.00 рублей\n",
      "Было накоплено: 340000.00\n"
     ]
    }
   ],
   "source": [
    "salary = int(input('Введите заработанную плату в месяц: '))\n",
    "mortgage_percents = int(input('Введите сколько процентов уходит на ипотеку: ')) * 0.01\n",
    "life_percents = int(input('Введите сколько процентов уходит на жизнь: ')) * 0.01\n",
    "prize_count = int(input('Введите количество премий за год: '))\n",
    "\n",
    "mortgage_in_year = salary * 12 * mortgage_percents\n",
    "profit = salary * ((1 - mortgage_percents - life_percents) * 12 + prize_count * 0.5)\n",
    "\n",
    "print('Вывод:')\n",
    "print(f'На ипотеку было потрачено: {mortgage_in_year:.2f} рублей')\n",
    "print(f'Было накоплено: {profit:.2f}')"
   ]
  }
 ],
 "metadata": {
  "kernelspec": {
   "display_name": "Python 3",
   "language": "python",
   "name": "python3"
  },
  "language_info": {
   "codemirror_mode": {
    "name": "ipython",
    "version": 3
   },
   "file_extension": ".py",
   "mimetype": "text/x-python",
   "name": "python",
   "nbconvert_exporter": "python",
   "pygments_lexer": "ipython3",
   "version": "3.7.6"
  }
 },
 "nbformat": 4,
 "nbformat_minor": 2
}
