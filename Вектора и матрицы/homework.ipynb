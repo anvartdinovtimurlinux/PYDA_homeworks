{
 "cells": [
  {
   "cell_type": "markdown",
   "metadata": {},
   "source": [
    "# Домашняя работа №1"
   ]
  },
  {
   "cell_type": "code",
   "execution_count": 5,
   "metadata": {},
   "outputs": [],
   "source": [
    "import numpy as np\n",
    "import matplotlib.pyplot as plt"
   ]
  },
  {
   "cell_type": "markdown",
   "metadata": {},
   "source": [
    "## Задание 1\n",
    "Изобразите с помощью matplotlib. Изобразите точку x + 2y + 3z. Найдите угол между векторами x, y и x, z."
   ]
  },
  {
   "cell_type": "code",
   "execution_count": 4,
   "metadata": {},
   "outputs": [],
   "source": [
    "x = np.array([1,1])\n",
    "y = np.array([2, 0])\n",
    "z = np.array([0,2])"
   ]
  },
  {
   "cell_type": "code",
   "execution_count": 22,
   "metadata": {},
   "outputs": [
    {
     "data": {
      "text/plain": [
       "[<matplotlib.lines.Line2D at 0x118563a50>]"
      ]
     },
     "execution_count": 22,
     "metadata": {},
     "output_type": "execute_result"
    },
    {
     "data": {
      "image/png": "[encoded data removed]",
      "text/plain": [
       "<Figure size 432x288 with 1 Axes>"
      ]
     },
     "metadata": {
      "needs_background": "light"
     },
     "output_type": "display_data"
    }
   ],
   "source": [
    "new_point = x + 2 * y + 3 * z\n",
    "\n",
    "plt.grid()\n",
    "plt.plot(*x, 'o')\n",
    "plt.plot(*y, 'o')\n",
    "plt.plot(*z, 'o')\n",
    "plt.plot(*new_point, 'x')"
   ]
  },
  {
   "cell_type": "code",
   "execution_count": 18,
   "metadata": {},
   "outputs": [
    {
     "name": "stdout",
     "output_type": "stream",
     "text": [
      "Угол между векторами [1 1] и [2 0] равен 0.7853981633974484 rad или 45.0°\n",
      "Угол между векторами [1 1] и [0 2] равен 0.7853981633974484 rad или 45.0°\n"
     ]
    }
   ],
   "source": [
    "def get_norm_vector(vector):\n",
    "    return vector / np.linalg.norm(vector)\n",
    "\n",
    "def get_angle(vector1, vector2): \n",
    "    vector1_norm = get_norm_vector(vector1) \n",
    "    vector2_norm = get_norm_vector(vector2) \n",
    "    return np.arccos(np.clip(np.dot(vector1_norm, vector2_norm), -1.0, 1.0)) \n",
    "\n",
    "alpha = get_angle(x, y)\n",
    "beta = get_angle(x, z)\n",
    "print(f'Угол между векторами {x} и {y} равен {alpha} rad или {round(alpha * 180 / np.pi, 2)}\\u00B0')\n",
    "print(f'Угол между векторами {x} и {z} равен {beta} rad или {round(beta * 180 / np.pi, 2)}\\u00B0')"
   ]
  },
  {
   "cell_type": "markdown",
   "metadata": {},
   "source": [
    "## Задание 2\n",
    "Найдите собственные значения и собственные вектора матриц (необходимо решение на numpy). Для матрицы 3x3 можно посмотреть на корни характеристического многочлена, посчитанные в numpy."
   ]
  },
  {
   "cell_type": "code",
   "execution_count": 23,
   "metadata": {},
   "outputs": [],
   "source": [
    "m1 = np.array([[2, 2],\n",
    "               [1, 3]])\n",
    "\n",
    "m2 = np.array([[4, 1, -1],\n",
    "               [1, 4, -1],\n",
    "               [-1, -1, 4]])"
   ]
  },
  {
   "cell_type": "code",
   "execution_count": 51,
   "metadata": {},
   "outputs": [
    {
     "name": "stdout",
     "output_type": "stream",
     "text": [
      "[1. 4.]\n",
      "[[-0.89442719 -0.70710678]\n",
      " [ 0.4472136  -0.70710678]]\n",
      "True\n"
     ]
    }
   ],
   "source": [
    "# w - собственные значения, v - собственные вектора\n",
    "w1, v1 = np.linalg.eig(m1)\n",
    "print(w1, v1, sep=\"\\n\")\n",
    "# Проверка корректоности вычислений\n",
    "print(str(np.dot(m1, v1)) == str(w1 * v1))"
   ]
  },
  {
   "cell_type": "code",
   "execution_count": 52,
   "metadata": {},
   "outputs": [
    {
     "name": "stdout",
     "output_type": "stream",
     "text": [
      "[3. 6. 3.]\n",
      "[[-0.81649658  0.57735027 -0.27658128]\n",
      " [ 0.40824829  0.57735027  0.8035929 ]\n",
      " [-0.40824829 -0.57735027  0.52701162]]\n",
      "True\n"
     ]
    }
   ],
   "source": [
    "w2, v2 = np.linalg.eig(m2)\n",
    "print(w2, v2, sep=\"\\n\")\n",
    "print(str(np.dot(m2, v2)) == str(w2 * v2))"
   ]
  },
  {
   "cell_type": "markdown",
   "metadata": {},
   "source": [
    "## Задание 3\n",
    "Найдите сингулярное разложение матрицы."
   ]
  },
  {
   "cell_type": "code",
   "execution_count": 53,
   "metadata": {},
   "outputs": [],
   "source": [
    "m3 = np.array([[1, 2],\n",
    "               [2, 3]])"
   ]
  },
  {
   "cell_type": "code",
   "execution_count": 63,
   "metadata": {},
   "outputs": [
    {
     "name": "stdout",
     "output_type": "stream",
     "text": [
      "Левые сингулярные вектора:\n",
      " [[-0.52573111 -0.85065081]\n",
      " [-0.85065081  0.52573111]]\n",
      "\n",
      "Матрица, содержащая сингулярные числа исходной матрицы:\n",
      " [4.23606798 0.23606798]\n",
      "\n",
      "Правые сингулярные вектора:\n",
      " [[-0.52573111 -0.85065081]\n",
      " [ 0.85065081 -0.52573111]]\n",
      "\n"
     ]
    }
   ],
   "source": [
    "U, E, V = np.linalg.svd(m3, full_matrices = True, compute_uv = True)\n",
    "print(f'Левые сингулярные вектора:\\n {U}\\n')\n",
    "print(f'Матрица, содержащая сингулярные числа исходной матрицы:\\n {E}\\n')\n",
    "print(f'Правые сингулярные вектора:\\n {V}\\n')\n"
   ]
  }
 ],
 "metadata": {
  "kernelspec": {
   "display_name": "Python 3",
   "language": "python",
   "name": "python3"
  },
  "language_info": {
   "codemirror_mode": {
    "name": "ipython",
    "version": 3
   },
   "file_extension": ".py",
   "mimetype": "text/x-python",
   "name": "python",
   "nbconvert_exporter": "python",
   "pygments_lexer": "ipython3",
   "version": "3.7.6"
  }
 },
 "nbformat": 4,
 "nbformat_minor": 4
}
