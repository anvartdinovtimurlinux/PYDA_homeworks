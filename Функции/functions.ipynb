{
 "cells": [
  {
   "cell_type": "markdown",
   "metadata": {},
   "source": [
    "Вы работаете секретарем и вам постоянно приходят различные документы. Вы должны быть очень внимательны, чтобы не потерять ни один документ. Каталог документов хранится в следующем виде:"
   ]
  },
  {
   "cell_type": "code",
   "execution_count": 1,
   "metadata": {},
   "outputs": [],
   "source": [
    "documents = [\n",
    "    {'type': 'passport', 'number': '2207 876234', 'name': 'Василий Гупкин'},\n",
    "    {'type': 'invoice', 'number': '11-2', 'name': 'Геннадий Покемонов'},\n",
    "    {'type': 'insurance', 'number': '10006', 'name': 'Аристарх Павлов'}\n",
    "]"
   ]
  },
  {
   "cell_type": "markdown",
   "metadata": {},
   "source": [
    "Перечень полок, на которых находятся документы хранится в следующем виде:"
   ]
  },
  {
   "cell_type": "code",
   "execution_count": 2,
   "metadata": {},
   "outputs": [],
   "source": [
    "directories = {\n",
    "    '1': ['2207 876234', '11-2'],\n",
    "    '2': ['10006'],\n",
    "    '3': []\n",
    "}"
   ]
  },
  {
   "cell_type": "markdown",
   "metadata": {},
   "source": [
    "Необходимо реализовать пользовательские команды (внимание! это не название функций, которые должны быть выразительными, а команды, которые вводит пользователь, чтобы получить необходимый результат):\n",
    "  \n",
    "- p – people – команда, которая спросит номер документа и выведет имя человека, которому он принадлежит;  \n",
    "- s – shelf – команда, которая спросит номер документа и выведет номер полки, на которой он находится  \n",
    "*Правильно обработайте ситуации, когда пользователь будет вводить несуществующий документ*.\n",
    "- l – list – команда, которая выведет список всех документов в формате   \n",
    "**passport \"2207 876234\" \"Василий Гупкин\"**  \n",
    "- as – add shelf – команда, которая спросит номер новой полки и добавит ее в перечень. *Предусмотрите случай, когда пользователь добавляет полку, которая уже существует*.\n",
    "- d – delete – команда, которая спросит номер документа и удалит его из каталога и из перечня полок. *Предусмотрите сценарий, когда пользователь вводит несуществующий документ*;  \n",
    "- m – move – команда, которая спросит номер документа и целевую полку и переместит его с текущей полки на целевую. *Корректно обработайте кейсы, когда пользователь пытается переместить несуществующий документ или переместить документ на несуществующую полку*;  \n",
    "- a – add – команда, которая добавит новый документ в каталог и в перечень полок, спросив его номер, тип, имя владельца и номер полки, на котором он будет храниться. *Корректно обработайте ситуацию, когда пользователь будет пытаться добавить документ на несуществующую полку*."
   ]
  },
  {
   "cell_type": "code",
   "execution_count": 3,
   "metadata": {},
   "outputs": [],
   "source": [
    "def get_owner(doc_num):\n",
    "    \"\"\"\n",
    "    Функция принимает номер документа и\n",
    "    возвращает имя человека, которому он принадлежит\n",
    "    \"\"\"\n",
    "    for doc in documents:\n",
    "        if doc['number'] == doc_num:\n",
    "            return doc.get('name', 'У этого документа не указан владелец')\n",
    "\n",
    "    return 'Такой документ в каталоге отсутствует'"
   ]
  },
  {
   "cell_type": "code",
   "execution_count": 4,
   "metadata": {},
   "outputs": [],
   "source": [
    "def get_type(doc_num):\n",
    "    \"\"\"\n",
    "    Функция принимает номер документа и\n",
    "    возвращает тип документа\n",
    "    \"\"\"\n",
    "    for doc in documents:\n",
    "        if doc['number'] == doc_num:\n",
    "            return doc.get('type', 'У этого документа не указан тип')\n",
    "\n",
    "    return 'Такой документ в каталоге отсутствует'"
   ]
  },
  {
   "cell_type": "code",
   "execution_count": 5,
   "metadata": {},
   "outputs": [],
   "source": [
    "def show_documents():\n",
    "    \"\"\"\n",
    "    выведет список всех документов,\n",
    "    каждый документ на своей строке в формате\n",
    "    passport \"2207 876234\" \"Василий Гупкин\"\n",
    "    \"\"\"\n",
    "    for doc in documents:\n",
    "        doc_type = doc.get('type', 'тип отсутствует')\n",
    "        doc_number = doc.get('number', 'номер отсутствует')\n",
    "        doc_name = doc.get('name', 'имя отсутствует')\n",
    "        print(f'{doc_type} \"{doc_number}\" \"{doc_name}\"')"
   ]
  },
  {
   "cell_type": "code",
   "execution_count": 6,
   "metadata": {},
   "outputs": [],
   "source": [
    "def get_shell(doc_num):\n",
    "    \"\"\"\n",
    "    Функция принимает номер документа и\n",
    "    возвращает полку, на которой он находится\n",
    "    \"\"\"\n",
    "    for shell, document in directories.items():\n",
    "        if doc_num in document:\n",
    "            return shell\n",
    "\n",
    "    return 'Такой документ в каталоге отсутствует'"
   ]
  },
  {
   "cell_type": "code",
   "execution_count": 7,
   "metadata": {},
   "outputs": [],
   "source": [
    "def add_document(doc_num, doc_type, doc_owner, doc_shell):\n",
    "    \"\"\"\n",
    "    Функция принимает номер документа, тип, владельца, номер полки и\n",
    "    добавляет его в documents и directories\n",
    "    \"\"\"\n",
    "    if doc_shell in directories:\n",
    "        document = {\"type\": doc_type, \"number\": doc_num, \"name\": doc_owner}\n",
    "        documents.append(document)\n",
    "        directories[doc_shell].append(doc_num)\n",
    "        print('Документ успешно добавлен')\n",
    "    else:\n",
    "        print('Полки с таким номером не существует')\n",
    "        answer = input('Создать эту полку и добавить в нее документ Y/N? ').lower()\n",
    "        if answer == 'y':\n",
    "            add_shell(doc_shell)\n",
    "            add_document(doc_num, doc_type, doc_owner, doc_shell)"
   ]
  },
  {
   "cell_type": "code",
   "execution_count": 8,
   "metadata": {},
   "outputs": [],
   "source": [
    "def delete_document(doc_num):\n",
    "    \"\"\"\n",
    "    Функция принимает номер документа и\n",
    "    удаляет документ из documents и directories\n",
    "    \"\"\"\n",
    "    doc_for_delete = None\n",
    "    for doc in documents:\n",
    "        if doc['number'] == doc_num:\n",
    "            doc_for_delete = doc\n",
    "\n",
    "    if doc_for_delete:\n",
    "        documents.remove(doc_for_delete)\n",
    "        directories[get_shell(doc_num)].remove(doc_num)\n",
    "        print('Документ успешно удален')\n",
    "    else:\n",
    "        print('Такой документ в каталоге отсутствует')"
   ]
  },
  {
   "cell_type": "code",
   "execution_count": 9,
   "metadata": {},
   "outputs": [],
   "source": [
    "def move_document(doc_num, new_shell):\n",
    "    \"\"\"\n",
    "    Функция принимает номер документа,\n",
    "    полку на которую нужно переместить документ,\n",
    "    и перемещает документ\n",
    "    \"\"\"\n",
    "    if get_shell(doc_num) != 'Такой документ в каталоге отсутствует':\n",
    "        doc_type = get_type(doc_num)\n",
    "        doc_owner = get_owner(doc_num)\n",
    "        delete_document(doc_num)\n",
    "        add_document(doc_num, doc_type, doc_owner, new_shell)\n",
    "    else:\n",
    "        print('Такого документа в каталоге не обнаружено')"
   ]
  },
  {
   "cell_type": "code",
   "execution_count": 10,
   "metadata": {},
   "outputs": [],
   "source": [
    "def add_shell(new_shell):\n",
    "    \"\"\"\n",
    "    Функция принимает номер новой полки и\n",
    "    создает ее\n",
    "    \"\"\"\n",
    "    if new_shell in directories:\n",
    "        print('Такая полка уже есть')\n",
    "    else:\n",
    "        directories[new_shell] = []\n",
    "        print('Полка создана')"
   ]
  },
  {
   "cell_type": "code",
   "execution_count": 11,
   "metadata": {},
   "outputs": [],
   "source": [
    "def show_help():\n",
    "    print('Список команд, поддерживаемых программой:')\n",
    "    print('1) P  (people)     - по номеру документа возвращает владельца')\n",
    "    print('2) L  (list)       - выводит список всех документов')\n",
    "    print('3) S  (shelf)      - по номеру документа возвращает номер полки')\n",
    "    print('4) A  (add)        - добавляет новый документ в каталог')\n",
    "    print('5) D  (delete)     - удаляет документ из каталога')\n",
    "    print('6) M  (move)       - перемещает документ с одной полки на другую')\n",
    "    print('7) AS (add shelf)  - добавляет новую полку')\n",
    "    print('8) H  (help)       - выводит список команд, поддерживаемых программой ')\n",
    "    print('9) Q  (quit)       - прекращает работу')"
   ]
  },
  {
   "cell_type": "code",
   "execution_count": 12,
   "metadata": {},
   "outputs": [],
   "source": [
    "def main():\n",
    "    show_help()\n",
    "\n",
    "    while True:\n",
    "        user_input = input('\\nВведите команду: ').lower()\n",
    "        if user_input == 'p' or user_input == '1':\n",
    "            doc_num = input('Введите номер документа: ')\n",
    "            print(get_owner(doc_num))\n",
    "\n",
    "        elif user_input == 'l' or user_input == '2':\n",
    "            show_documents()\n",
    "\n",
    "        elif user_input == 's' or user_input == '3':\n",
    "            doc_num = input('Введите номер документа: ')\n",
    "            print(get_shell(doc_num))\n",
    "\n",
    "        elif user_input == 'a' or user_input == '4':\n",
    "            doc_num = input('Введите номер документа: ')\n",
    "            doc_type = input('Введите тип документа: ')\n",
    "            doc_owner = input('Введите имя владельца документа: ')\n",
    "            doc_shell = input('Введите номер полки, на кототрой будет храниться документ: ')\n",
    "            add_document(doc_num, doc_type, doc_owner, doc_shell)\n",
    "\n",
    "        elif user_input == 'd' or user_input == '5':\n",
    "            doc_num = input('Введите номер документа: ')\n",
    "            delete_document(doc_num)\n",
    "\n",
    "        elif user_input == 'm' or user_input == '6':\n",
    "            doc_num = input('Введите номер документа: ')\n",
    "            new_shell = input('Введите номер полки, на которую нужно переместить документ: ')\n",
    "            move_document(doc_num, new_shell)\n",
    "\n",
    "        elif user_input == 'as' or user_input == '7':\n",
    "            new_shell = input('Введите номер новой полки: ')\n",
    "            add_shell(new_shell)\n",
    "\n",
    "        # elif user_input == 'an' or user_input == '1':\n",
    "        #     show_all_name()\n",
    "\n",
    "        elif user_input == 'h' or user_input == '8':\n",
    "            show_help()\n",
    "\n",
    "        elif user_input == 'q' or user_input == '9':\n",
    "            print('Пока!')\n",
    "            break"
   ]
  },
  {
   "cell_type": "code",
   "execution_count": 13,
   "metadata": {},
   "outputs": [
    {
     "name": "stdout",
     "output_type": "stream",
     "text": [
      "Список команд, поддерживаемых программой:\n",
      "1) P  (people)     - по номеру документа возвращает владельца\n",
      "2) L  (list)       - выводит список всех документов\n",
      "3) S  (shelf)      - по номеру документа возвращает номер полки\n",
      "4) A  (add)        - добавляет новый документ в каталог\n",
      "5) D  (delete)     - удаляет документ из каталога\n",
      "6) M  (move)       - перемещает документ с одной полки на другую\n",
      "7) AS (add shelf)  - добавляет новую полку\n",
      "8) H  (help)       - выводит список команд, поддерживаемых программой \n",
      "9) Q  (quit)       - прекращает работу\n",
      "\n",
      "Введите команду: p\n",
      "Введите номер документа: 2207 876234\n",
      "Василий Гупкин\n",
      "\n",
      "Введите команду: l\n",
      "passport \"2207 876234\" \"Василий Гупкин\"\n",
      "invoice \"11-2\" \"Геннадий Покемонов\"\n",
      "insurance \"10006\" \"Аристарх Павлов\"\n",
      "\n",
      "Введите команду: s\n",
      "Введите номер документа: 2207 876234\n",
      "1\n",
      "\n",
      "Введите команду: a\n",
      "Введите номер документа: 4007 808593\n",
      "Введите тип документа: passport\n",
      "Введите имя владельца документа: T A\n",
      "Введите номер полки, на кототрой будет храниться документ: 5\n",
      "Полки с таким номером не существует\n",
      "Создать эту полку и добавить в нее документ Y/N? y\n",
      "Полка создана\n",
      "Документ успешно добавлен\n",
      "\n",
      "Введите команду: d\n",
      "Введите номер документа: 2207 876234\n",
      "Документ успешно удален\n",
      "\n",
      "Введите команду: m\n",
      "Введите номер документа: 4007 808593\n",
      "Введите номер полки, на которую нужно переместить документ: 3\n",
      "Документ успешно удален\n",
      "Документ успешно добавлен\n",
      "\n",
      "Введите команду: as\n",
      "Введите номер новой полки: 4\n",
      "Полка создана\n",
      "\n",
      "Введите команду: h\n",
      "Список команд, поддерживаемых программой:\n",
      "1) P  (people)     - по номеру документа возвращает владельца\n",
      "2) L  (list)       - выводит список всех документов\n",
      "3) S  (shelf)      - по номеру документа возвращает номер полки\n",
      "4) A  (add)        - добавляет новый документ в каталог\n",
      "5) D  (delete)     - удаляет документ из каталога\n",
      "6) M  (move)       - перемещает документ с одной полки на другую\n",
      "7) AS (add shelf)  - добавляет новую полку\n",
      "8) H  (help)       - выводит список команд, поддерживаемых программой \n",
      "9) Q  (quit)       - прекращает работу\n",
      "\n",
      "Введите команду: q\n",
      "Пока!\n"
     ]
    }
   ],
   "source": [
    "main()"
   ]
  }
 ],
 "metadata": {
  "kernelspec": {
   "display_name": "Python 3",
   "language": "python",
   "name": "python3"
  },
  "language_info": {
   "codemirror_mode": {
    "name": "ipython",
    "version": 3
   },
   "file_extension": ".py",
   "mimetype": "text/x-python",
   "name": "python",
   "nbconvert_exporter": "python",
   "pygments_lexer": "ipython3",
   "version": "3.7.6"
  }
 },
 "nbformat": 4,
 "nbformat_minor": 2
}
