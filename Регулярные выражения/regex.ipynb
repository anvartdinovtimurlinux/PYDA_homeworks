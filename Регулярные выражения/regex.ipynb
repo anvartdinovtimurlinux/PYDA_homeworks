{
 "cells": [
  {
   "cell_type": "code",
   "execution_count": 1,
   "metadata": {},
   "outputs": [],
   "source": [
    "import re"
   ]
  },
  {
   "cell_type": "markdown",
   "metadata": {},
   "source": [
    "**Задание 1.** Напишите функцию, которая принимает на вход строку и проверяет является ли она валидным транспортным номером. Если да, то функция должна возвращать отдельно номер и регион."
   ]
  },
  {
   "cell_type": "markdown",
   "metadata": {},
   "source": [
    "Важно помнить, что не все буквы могут использоваться в номере, и цифры не может равняться 000"
   ]
  },
  {
   "cell_type": "code",
   "execution_count": 2,
   "metadata": {},
   "outputs": [
    {
     "name": "stdout",
     "output_type": "stream",
     "text": [
      "True\n",
      "True\n",
      "True\n",
      "False\n",
      "False\n",
      "False\n"
     ]
    }
   ],
   "source": [
    "car_numbers = ['А111ОХ97', 'М128ММ777', 'Х063ЕТ77', 'АВ214ПА189', 'Х001ЕТ00', 'В000РА79']\n",
    "template = r'[АВЕКМНОРСТУХ]\\d{3}(?<!000)[АВЕКМНОРСТУХ]{2}\\d{2,3}(?<!00)'\n",
    "\n",
    "for car_number in car_numbers:\n",
    "    print(bool(re.search(template, car_number)))"
   ]
  },
  {
   "cell_type": "markdown",
   "metadata": {},
   "source": [
    "**Задание 2**. Постарайтесь написать (в крайнем случае найти) самый полный шаблон для проверки e-mail адресов через регулярное выражение, которая проверяет e-mail адрес на валидность. Можно руководствоваться следующими минимальными требованиями:\n",
    "* адрес должен содержать специальный символ \"@\", который отделяет имя пользователя почтовой системы от доменного имени;\n",
    "* адрес не должен содержать следующие символы: \"пробел\", \",\", \":\", \";\", \"!\", \"#\", \"%\", \"*\", \"(\", \")\", \"=\", \"+\", \"{\", \"}\", \" \" \", \" ' \", \" / \", \" \\ \" и \"|\";\n",
    "* адрес должен состоять только из латинских символов;\n",
    "* после символа \"@\" должна быть как минимум одна \".\";\n",
    "* после последней точки должно быть не менее 2-х и не более 4-х символов, причем наличие цифр не допускается;\n",
    "* между последней точкой и символом \"@\" должно быть не менее 2-х символов\n",
    "* слева от \"@\" должно быть не менее четырех символов\n"
   ]
  },
  {
   "cell_type": "code",
   "execution_count": 3,
   "metadata": {},
   "outputs": [
    {
     "name": "stdout",
     "output_type": "stream",
     "text": [
      "True\n",
      "True\n",
      "False\n",
      "False\n",
      "False\n"
     ]
    }
   ],
   "source": [
    "emails = [\n",
    "    'real_vortex2005@mail.com.ua',\n",
    "    'Anvartdinovtimur@gmail.com',\n",
    "    'sdgdhs@dsgsdhh.shsdfh',\n",
    "    'fhd33@4t.ru',\n",
    "    'ef@gf.fg',\n",
    "]\n",
    "template = r'^[A-Za-z0-9$&-?^_`~]{4,}@[A-Za-z.]{2,}\\.[A-z]{2,4}$'\n",
    "\n",
    "for email in emails:\n",
    "    print(bool(re.search(template, email)))"
   ]
  },
  {
   "cell_type": "markdown",
   "metadata": {},
   "source": [
    "**Задание 3.** Напишите функцию, которая будет удалять все последовательные повторы слов из заданной строки при помощи регулярных выражений."
   ]
  },
  {
   "cell_type": "code",
   "execution_count": 4,
   "metadata": {},
   "outputs": [
    {
     "name": "stdout",
     "output_type": "stream",
     "text": [
      "Я другой такой страны не знаю\n"
     ]
    }
   ],
   "source": [
    "def delete_repeat_words(text):\n",
    "    return re.sub(r'\\b([^\\W\\d_]+)(\\s+\\1)+\\b', r'\\1', re.sub(r'\\W+', ' ', text), flags=re.I)\n",
    "\n",
    "print(delete_repeat_words('Я я я другой такой такой страны не не не не знаю'))"
   ]
  },
  {
   "cell_type": "markdown",
   "metadata": {},
   "source": [
    "**Задание 4**. Напишите функцию, которая будет проверять номер сотового телефона на валидность, если он валиден, то переводить его в формат:   \n",
    "+7(xxx)-xxx-xx-xx  \n",
    "Постарайтесь предусмотреть как можно больше адекватных форматов изначального ввода номера.\n",
    "Примеры валидных форматов:\n",
    "- +7 955 555-55-55;\n",
    "- 9555555555;\n",
    "- 8(955)555-55-55;\n",
    "- +7 955 555 55 55;\n",
    "- 7(955) 555-55-55;\n",
    "- +7 955+555+55+55."
   ]
  },
  {
   "cell_type": "code",
   "execution_count": 5,
   "metadata": {},
   "outputs": [
    {
     "name": "stdout",
     "output_type": "stream",
     "text": [
      "True\n",
      "True\n",
      "True\n",
      "True\n",
      "True\n",
      "True\n"
     ]
    }
   ],
   "source": [
    "phones = [\n",
    "    '+7 955 555-55-55',\n",
    "    '9555555555',\n",
    "    '8(955)555-55-55',\n",
    "    '+7 955 555 55 55',\n",
    "    '7(955) 555-55-55',\n",
    "    '+7 955+555+55+55',\n",
    "]\n",
    "template = r'^(\\+7|7|8)?[\\s\\-+]?\\(?9[0-9]{2}\\)?[\\s\\-+]?[0-9]{3}\\)?[\\s\\-+]?[0-9]{2}\\)?[\\s\\-+]?[0-9]{2}\\)?[\\s\\-+]?$'\n",
    "\n",
    "for phone in phones:\n",
    "    print(bool(re.search(template, phone)))"
   ]
  }
 ],
 "metadata": {
  "kernelspec": {
   "display_name": "Python 3",
   "language": "python",
   "name": "python3"
  },
  "language_info": {
   "codemirror_mode": {
    "name": "ipython",
    "version": 3
   },
   "file_extension": ".py",
   "mimetype": "text/x-python",
   "name": "python",
   "nbconvert_exporter": "python",
   "pygments_lexer": "ipython3",
   "version": "3.7.6"
  }
 },
 "nbformat": 4,
 "nbformat_minor": 2
}
