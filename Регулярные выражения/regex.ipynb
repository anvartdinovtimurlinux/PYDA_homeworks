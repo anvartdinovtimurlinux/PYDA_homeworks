{
 "cells": [
  {
   "cell_type": "code",
   "execution_count": 1,
   "metadata": {},
   "outputs": [],
   "source": [
    "import re"
   ]
  },
  {
   "cell_type": "markdown",
   "metadata": {},
   "source": [
    "**Задание 1.** Напишите функцию, которая принимает на вход строку и проверяет является ли она валидным транспортным номером. Если да, то функция должна возвращать отдельно номер и регион."
   ]
  },
  {
   "cell_type": "markdown",
   "metadata": {},
   "source": [
    "Важно помнить, что не все буквы могут использоваться в номере, и цифры не может равняться 000"
   ]
  },
  {
   "cell_type": "code",
   "execution_count": 2,
   "metadata": {},
   "outputs": [],
   "source": [
    "def is_correct_car_number(car_number):\n",
    "    pattern = r'([АВЕКМНОРСТУХ]\\s?\\d{3}(?<!000)\\s?[АВЕКМНОРСТУХ]{2})\\s?(\\d{2,3}(?<!00))'\n",
    "    result = re.search(pattern, car_number, flags=re.I)\n",
    "    if result:\n",
    "        return result.group(1), result.group(2)"
   ]
  },
  {
   "cell_type": "code",
   "execution_count": 3,
   "metadata": {},
   "outputs": [
    {
     "name": "stdout",
     "output_type": "stream",
     "text": [
      "А 111ОХ97 - ('А 111ОХ', '97')\n",
      "М128ММ 777 - ('М128ММ', '777')\n",
      "Х063ЕТ77 - ('Х063ЕТ', '77')\n",
      "АВ214ПА189 - None\n",
      "Х001ЕТ00 - None\n",
      "В 000 РА79 - None\n"
     ]
    }
   ],
   "source": [
    "car_numbers = ['А 111ОХ97', 'М128ММ 777', 'Х063ЕТ77', 'АВ214ПА189', 'Х001ЕТ00', 'В 000 РА79']\n",
    "\n",
    "for car_number in car_numbers:\n",
    "    print(f'{car_number} - {is_correct_car_number(car_number)}')"
   ]
  },
  {
   "cell_type": "markdown",
   "metadata": {},
   "source": [
    "**Задание 2**. Постарайтесь написать (в крайнем случае найти) самый полный шаблон для проверки e-mail адресов через регулярное выражение, которая проверяет e-mail адрес на валидность. Можно руководствоваться следующими минимальными требованиями:\n",
    "* адрес должен содержать специальный символ \"@\", который отделяет имя пользователя почтовой системы от доменного имени;\n",
    "* адрес не должен содержать следующие символы: \"пробел\", \",\", \":\", \";\", \"!\", \"#\", \"%\", \"*\", \"(\", \")\", \"=\", \"+\", \"{\", \"}\", \" \" \", \" ' \", \" / \", \" \\ \" и \"|\";\n",
    "* адрес должен состоять только из латинских символов;\n",
    "* после символа \"@\" должна быть как минимум одна \".\";\n",
    "* после последней точки должно быть не менее 2-х и не более 4-х символов, причем наличие цифр не допускается;\n",
    "* между последней точкой и символом \"@\" должно быть не менее 2-х символов\n",
    "* слева от \"@\" должно быть не менее четырех символов\n"
   ]
  },
  {
   "cell_type": "code",
   "execution_count": 4,
   "metadata": {},
   "outputs": [
    {
     "name": "stdout",
     "output_type": "stream",
     "text": [
      "True\n",
      "True\n",
      "False\n",
      "False\n",
      "False\n"
     ]
    }
   ],
   "source": [
    "emails = [\n",
    "    'real_vortex2005@mail.com.ua',\n",
    "    'Anvartdinovtimur@gmail.com',\n",
    "    'sdgdhs@dsgsdhh.shsdfh',\n",
    "    'fhd33@4t.ru',\n",
    "    'ef@gf.fg',\n",
    "]\n",
    "template = r'^[A-Za-z0-9$&-?^_`~]{4,}@[A-Za-z.]{2,}\\.[A-z]{2,4}$'\n",
    "\n",
    "for email in emails:\n",
    "    print(bool(re.search(template, email)))"
   ]
  },
  {
   "cell_type": "markdown",
   "metadata": {},
   "source": [
    "**Задание 3.** Напишите функцию, которая будет удалять все последовательные повторы слов из заданной строки при помощи регулярных выражений."
   ]
  },
  {
   "cell_type": "code",
   "execution_count": 5,
   "metadata": {},
   "outputs": [
    {
     "name": "stdout",
     "output_type": "stream",
     "text": [
      "Я другой такой страны не знаю\n"
     ]
    }
   ],
   "source": [
    "def delete_repeat_words(text):\n",
    "    return re.sub(r'\\b([^\\W\\d_]+)(\\s+\\1)+\\b', r'\\1', re.sub(r'\\W+', ' ', text), flags=re.I)\n",
    "\n",
    "print(delete_repeat_words('Я я я другой такой такой страны не не не не знаю'))"
   ]
  },
  {
   "cell_type": "markdown",
   "metadata": {},
   "source": [
    "**Задание 4**. Напишите функцию, которая будет проверять номер сотового телефона на валидность, если он валиден, то переводить его в формат:   \n",
    "+7(xxx)-xxx-xx-xx  \n",
    "Постарайтесь предусмотреть как можно больше адекватных форматов изначального ввода номера.\n",
    "Примеры валидных форматов:\n",
    "- +7 955 555-55-55;\n",
    "- 9555555555;\n",
    "- 8(955)555-55-55;\n",
    "- +7 955 555 55 55;\n",
    "- 7(955) 555-55-55;\n",
    "- +7 955+555+55+55."
   ]
  },
  {
   "cell_type": "code",
   "execution_count": 6,
   "metadata": {},
   "outputs": [],
   "source": [
    "def get_correct_phone_number(number):\n",
    "    patern = r'\\+?[87]*\\s*\\(?(\\d{3})\\)?\\s*[+\\-]?(\\d{3})\\s*[+\\-]?(\\d{2})\\s*[+\\-]?\\s*(\\d{2})'\n",
    "    example = r'+7(\\1)-\\2-\\3-\\4'\n",
    "    return re.sub(patern, example, number)"
   ]
  },
  {
   "cell_type": "code",
   "execution_count": 7,
   "metadata": {},
   "outputs": [
    {
     "name": "stdout",
     "output_type": "stream",
     "text": [
      "+7 955 555-55-55 - +7(955)-555-55-55\n",
      "9555555555 - +7(955)-555-55-55\n",
      "8(955)555-55-55 - +7(955)-555-55-55\n",
      "+7 955 555 55 55 - +7(955)-555-55-55\n",
      "7(955) 555-55-55 - +7(955)-555-55-55\n",
      "+7 955+555+55+55 - +7(955)-555-55-55\n"
     ]
    }
   ],
   "source": [
    "phones = [\n",
    "    '+7 955 555-55-55',\n",
    "    '9555555555',\n",
    "    '8(955)555-55-55',\n",
    "    '+7 955 555 55 55',\n",
    "    '7(955) 555-55-55',\n",
    "    '+7 955+555+55+55',\n",
    "]\n",
    "\n",
    "for phone in phones:\n",
    "    print(f'{phone} - {get_correct_phone_number(phone)}')"
   ]
  }
 ],
 "metadata": {
  "kernelspec": {
   "display_name": "Python 3",
   "language": "python",
   "name": "python3"
  },
  "language_info": {
   "codemirror_mode": {
    "name": "ipython",
    "version": 3
   },
   "file_extension": ".py",
   "mimetype": "text/x-python",
   "name": "python",
   "nbconvert_exporter": "python",
   "pygments_lexer": "ipython3",
   "version": "3.7.6"
  }
 },
 "nbformat": 4,
 "nbformat_minor": 2
}
